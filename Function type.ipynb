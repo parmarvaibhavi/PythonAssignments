{
 "cells": [
  {
   "cell_type": "code",
   "execution_count": 1,
   "metadata": {},
   "outputs": [
    {
     "name": "stdout",
     "output_type": "stream",
     "text": [
      "456\n",
      "<class 'int'>\n"
     ]
    }
   ],
   "source": [
    "# To find out which type of value stored in variable\n",
    "\n",
    "num=456\n",
    "\n",
    "print(num)\n",
    "print(type(num))"
   ]
  },
  {
   "cell_type": "code",
   "execution_count": 3,
   "metadata": {},
   "outputs": [
    {
     "name": "stdout",
     "output_type": "stream",
     "text": [
      "python\n",
      "<class 'str'>\n"
     ]
    }
   ],
   "source": [
    "name=\"python\"\n",
    "print(\"python\")\n",
    "print(type(\"python\"))"
   ]
  },
  {
   "cell_type": "code",
   "execution_count": 6,
   "metadata": {},
   "outputs": [
    {
     "name": "stdout",
     "output_type": "stream",
     "text": [
      "3.2\n",
      "<class 'float'>\n"
     ]
    }
   ],
   "source": [
    "price=3.2\n",
    "print(price)\n",
    "print(type(price))"
   ]
  }
 ],
 "metadata": {
  "kernelspec": {
   "display_name": "Python 3.9.13 ('base')",
   "language": "python",
   "name": "python3"
  },
  "language_info": {
   "codemirror_mode": {
    "name": "ipython",
    "version": 3
   },
   "file_extension": ".py",
   "mimetype": "text/x-python",
   "name": "python",
   "nbconvert_exporter": "python",
   "pygments_lexer": "ipython3",
   "version": "3.9.13"
  },
  "orig_nbformat": 4,
  "vscode": {
   "interpreter": {
    "hash": "f08a415331ebc6ab7265b07684a49c0de9ebdb565d7171789e7d2984e3e0eab0"
   }
  }
 },
 "nbformat": 4,
 "nbformat_minor": 2
}
