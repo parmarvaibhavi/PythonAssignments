{
 "cells": [
  {
   "cell_type": "code",
   "execution_count": 14,
   "id": "54d99c42",
   "metadata": {},
   "outputs": [
    {
     "name": "stdout",
     "output_type": "stream",
     "text": [
      "Welcome Vaibhavi\n"
     ]
    }
   ],
   "source": [
    "print(\"Welcome Vaibhavi\")"
   ]
  },
  {
   "cell_type": "code",
   "execution_count": 16,
   "id": "a545a231",
   "metadata": {},
   "outputs": [
    {
     "name": "stdout",
     "output_type": "stream",
     "text": [
      "Welcome Vaibhavi\n"
     ]
    }
   ],
   "source": [
    "print('Welcome Vaibhavi')"
   ]
  },
  {
   "cell_type": "code",
   "execution_count": 17,
   "id": "4610f0b7",
   "metadata": {},
   "outputs": [
    {
     "name": "stdout",
     "output_type": "stream",
     "text": [
      "'Welcome Vaibhavi'\n"
     ]
    }
   ],
   "source": [
    "print(\"'Welcome Vaibhavi'\")"
   ]
  },
  {
   "cell_type": "code",
   "execution_count": 18,
   "id": "e602d81a",
   "metadata": {},
   "outputs": [
    {
     "name": "stdout",
     "output_type": "stream",
     "text": [
      "\"Welcome Vaibhavi\"\n"
     ]
    }
   ],
   "source": [
    "print('\"Welcome Vaibhavi\"')"
   ]
  },
  {
   "cell_type": "code",
   "execution_count": 19,
   "id": "33640b15",
   "metadata": {},
   "outputs": [
    {
     "name": "stdout",
     "output_type": "stream",
     "text": [
      " Hello \n",
      " Python \n"
     ]
    }
   ],
   "source": [
    "# using of \\n -> new line\n",
    "print(\" Hello \\n Python \")"
   ]
  },
  {
   "cell_type": "code",
   "execution_count": 20,
   "id": "5221a8a3",
   "metadata": {},
   "outputs": [
    {
     "name": "stdout",
     "output_type": "stream",
     "text": [
      " Hello \t Python\n"
     ]
    }
   ],
   "source": [
    "# using of \\t -> tab\n",
    "print(\" Hello \\t Python\")"
   ]
  },
  {
   "cell_type": "code",
   "execution_count": 21,
   "id": "4c1c7031",
   "metadata": {},
   "outputs": [
    {
     "name": "stdout",
     "output_type": "stream",
     "text": [
      " Python 'programing' \n"
     ]
    }
   ],
   "source": [
    "# Single Quote\n",
    "print(' Python \\'programing\\' ')"
   ]
  },
  {
   "cell_type": "code",
   "execution_count": 22,
   "id": "4700e06c",
   "metadata": {},
   "outputs": [
    {
     "name": "stdout",
     "output_type": "stream",
     "text": [
      " Python \"programing\" \n"
     ]
    }
   ],
   "source": [
    "# Double Quote\n",
    "print(\" Python \\\"programing\\\" \")"
   ]
  },
  {
   "cell_type": "code",
   "execution_count": 34,
   "id": "772bc773",
   "metadata": {},
   "outputs": [
    {
     "name": "stdout",
     "output_type": "stream",
     "text": [
      " Hello \b Python \n"
     ]
    }
   ],
   "source": [
    "# using of\\b-> backspace\n",
    "print(\" Hello \\b Python \")"
   ]
  },
  {
   "cell_type": "code",
   "execution_count": 37,
   "id": "486e9ab3",
   "metadata": {},
   "outputs": [
    {
     "name": "stdout",
     "output_type": "stream",
     "text": [
      "Hello\n",
      "Python\n"
     ]
    }
   ],
   "source": [
    "# without end function \n",
    "\n",
    "print(\"Hello\")\n",
    "print(\"Python\")"
   ]
  },
  {
   "cell_type": "code",
   "execution_count": 38,
   "id": "bf47aee4",
   "metadata": {},
   "outputs": [
    {
     "name": "stdout",
     "output_type": "stream",
     "text": [
      "Hello Python\n"
     ]
    }
   ],
   "source": [
    "# with end function \n",
    "\n",
    "print(\"Hello\", end=\" \")\n",
    "print(\"Python\")"
   ]
  },
  {
   "cell_type": "code",
   "execution_count": 43,
   "id": "0fbd6385",
   "metadata": {},
   "outputs": [
    {
     "name": "stdout",
     "output_type": "stream",
     "text": [
      "Diksha|Gatha|Reshama|Moksha\n"
     ]
    }
   ],
   "source": [
    "# Seperator parameter used in print function\n",
    "\n",
    "print(\"Diksha\" , \"Gatha\" , \"Reshama\" , \"Moksha\" , sep=\"|\")"
   ]
  },
  {
   "cell_type": "code",
   "execution_count": 48,
   "id": "61a9cfd4",
   "metadata": {},
   "outputs": [
    {
     "name": "stdout",
     "output_type": "stream",
     "text": [
      "Result=  8\n",
      "Welcome to Python tutorials.\n"
     ]
    }
   ],
   "source": [
    "# Document comment Triple double quote (\"\"\") and single quote (''') for Multi-line commenting\n",
    "def multiply(x, y):\n",
    "    '''\n",
    "    This function takes two numbers in the form of input and multiplies them.\n",
    "    It displays the multiplication as the result.\n",
    "    '''\n",
    "    print(\"Result= \",(x+y))\n",
    "    \n",
    "def show():\n",
    "    '''\n",
    "    This function only displays a message.\n",
    "    It shows a welcome message to the user\n",
    "    '''\n",
    "    print(\"Welcome to Python tutorials.\")\n",
    "\n",
    "# functions calling\n",
    "multiply(6, 2)\n",
    "show()"
   ]
  },
  {
   "cell_type": "code",
   "execution_count": 5,
   "id": "fb2f38fd",
   "metadata": {},
   "outputs": [
    {
     "name": "stdout",
     "output_type": "stream",
     "text": [
      "55\n",
      "your marks is :  55\n"
     ]
    }
   ],
   "source": [
    "# variable example \n",
    "\n",
    "marks=55   # here,marks is a variable which contain numeric value\n",
    "print(marks)\n",
    "print(\"your marks is : \",marks)"
   ]
  },
  {
   "cell_type": "code",
   "execution_count": 7,
   "id": "b253fc00",
   "metadata": {},
   "outputs": [
    {
     "name": "stdout",
     "output_type": "stream",
     "text": [
      "python\n",
      "My favorite language is : python\n"
     ]
    }
   ],
   "source": [
    "name=\"python\" # name is a variable which contain string value\n",
    "print(name)\n",
    "print(\"My favorite language is : \"+name)"
   ]
  },
  {
   "cell_type": "code",
   "execution_count": 8,
   "id": "b3a343bc",
   "metadata": {},
   "outputs": [
    {
     "name": "stdout",
     "output_type": "stream",
     "text": [
      "30\n"
     ]
    }
   ],
   "source": [
    "# sum of two numbers\n",
    "\n",
    "a=10\n",
    "b=20\n",
    "print(a+b)"
   ]
  },
  {
   "cell_type": "code",
   "execution_count": 2,
   "id": "968e4f7d",
   "metadata": {},
   "outputs": [
    {
     "name": "stdout",
     "output_type": "stream",
     "text": [
      "8\n"
     ]
    }
   ],
   "source": [
    "print(5+3)"
   ]
  },
  {
   "cell_type": "code",
   "execution_count": 13,
   "id": "be0516e0",
   "metadata": {
    "scrolled": true
   },
   "outputs": [
    {
     "data": {
      "text/plain": [
       "18"
      ]
     },
     "execution_count": 13,
     "metadata": {},
     "output_type": "execute_result"
    }
   ],
   "source": [
    "(1+5) * 3"
   ]
  },
  {
   "cell_type": "code",
   "execution_count": 9,
   "id": "fa16e8d1",
   "metadata": {},
   "outputs": [
    {
     "name": "stdout",
     "output_type": "stream",
     "text": [
      "20\n",
      "10\n"
     ]
    }
   ],
   "source": [
    "# swaping of two numbers\n",
    "\n",
    "a=10\n",
    "b=20\n",
    "a,b=b,a\n",
    "print(a)\n",
    "print(b)"
   ]
  },
  {
   "cell_type": "code",
   "execution_count": 13,
   "id": "7b34c4f5",
   "metadata": {},
   "outputs": [
    {
     "name": "stdout",
     "output_type": "stream",
     "text": [
      "Hello \n",
      " python\n",
      "Hello \\n python\n"
     ]
    }
   ],
   "source": [
    "# without using raw string\n",
    "\n",
    "print(\"Hello \\n python\")\n",
    "\n",
    "# using raw string\n",
    "\n",
    "print(r\"Hello \\n python\")"
   ]
  },
  {
   "cell_type": "code",
   "execution_count": 4,
   "id": "f7cdacbe",
   "metadata": {},
   "outputs": [
    {
     "name": "stdout",
     "output_type": "stream",
     "text": [
      "Input a number: 3\n",
      "Sum of the first 3 positive integers: 6.0\n"
     ]
    }
   ],
   "source": [
    "n = int(input(\"Input a number: \"))\n",
    "sum_num = (n * (n + 1)) / 2\n",
    "print(\"Sum of the first\", n ,\"positive integers:\", sum_num)"
   ]
  },
  {
   "cell_type": "code",
   "execution_count": 5,
   "id": "f9298111",
   "metadata": {},
   "outputs": [
    {
     "name": "stdout",
     "output_type": "stream",
     "text": [
      "2\n"
     ]
    }
   ],
   "source": [
    "txt = \"I love apples, apple are my favorite fruit\"\n",
    "x = txt.count(\"apple\")\n",
    "print(x)"
   ]
  },
  {
   "cell_type": "code",
   "execution_count": 6,
   "id": "51bfd332",
   "metadata": {},
   "outputs": [
    {
     "name": "stdout",
     "output_type": "stream",
     "text": [
      "15\n"
     ]
    }
   ],
   "source": [
    "str = 'Welcome to Tops'\n",
    "print(len(str))"
   ]
  },
  {
   "cell_type": "code",
   "execution_count": 7,
   "id": "b3030505",
   "metadata": {},
   "outputs": [
    {
     "name": "stdout",
     "output_type": "stream",
     "text": [
      "True\n"
     ]
    }
   ],
   "source": [
    "str = \"India is religious country\"\n",
    "print(\"India\" in str)"
   ]
  },
  {
   "cell_type": "code",
   "execution_count": 8,
   "id": "f054fe19",
   "metadata": {},
   "outputs": [
    {
     "data": {
      "text/plain": [
       "64"
      ]
     },
     "execution_count": 8,
     "metadata": {},
     "output_type": "execute_result"
    }
   ],
   "source": [
    "pow (4,3)"
   ]
  },
  {
   "cell_type": "code",
   "execution_count": 9,
   "id": "a5f9f252",
   "metadata": {},
   "outputs": [
    {
     "name": "stdout",
     "output_type": "stream",
     "text": [
      "('Aarav', 'John', 'Vicky', 'Peter')\n"
     ]
    }
   ],
   "source": [
    "Name = (\"Aarav\", \"John\", \"Vicky\", \"Peter\")\n",
    "x = (Name)\n",
    "print(x)"
   ]
  },
  {
   "cell_type": "code",
   "execution_count": 10,
   "id": "85ae0d9a",
   "metadata": {},
   "outputs": [
    {
     "name": "stdout",
     "output_type": "stream",
     "text": [
      "Python Programing\n"
     ]
    }
   ],
   "source": [
    "print(\"Python\",end=\" \")\n",
    "print(\"Programing\")"
   ]
  }
 ],
 "metadata": {
  "kernelspec": {
   "display_name": "Python 3 (ipykernel)",
   "language": "python",
   "name": "python3"
  },
  "language_info": {
   "codemirror_mode": {
    "name": "ipython",
    "version": 3
   },
   "file_extension": ".py",
   "mimetype": "text/x-python",
   "name": "python",
   "nbconvert_exporter": "python",
   "pygments_lexer": "ipython3",
   "version": "3.9.13"
  }
 },
 "nbformat": 4,
 "nbformat_minor": 5
}
