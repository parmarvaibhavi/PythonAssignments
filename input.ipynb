{
 "cells": [
  {
   "cell_type": "code",
   "execution_count": 2,
   "metadata": {},
   "outputs": [
    {
     "name": "stdout",
     "output_type": "stream",
     "text": [
      "Hello  Vaibhavi\n"
     ]
    }
   ],
   "source": [
    "# get value user using input function \n",
    "\n",
    "name=input(\"Enter your name : \")\n",
    "\n",
    "print(\"Hello \",name)"
   ]
  },
  {
   "cell_type": "code",
   "execution_count": 3,
   "metadata": {},
   "outputs": [
    {
     "name": "stdout",
     "output_type": "stream",
     "text": [
      "7\n"
     ]
    }
   ],
   "source": [
    "# int input\n",
    "\n",
    "a=int(input(\"Enter a : \"))\n",
    "b=int(input(\"Enter b : \"))\n",
    "\n",
    "c=a+b\n",
    "print(c)"
   ]
  },
  {
   "cell_type": "code",
   "execution_count": 5,
   "metadata": {},
   "outputs": [
    {
     "name": "stdout",
     "output_type": "stream",
     "text": [
      "first name :  Vaibhavi\n",
      "last name :  parmar\n"
     ]
    }
   ],
   "source": [
    "# split() function\n",
    "\n",
    "fname,lname=input(\"Enter your fname and lname \").split()\n",
    "\n",
    "print(\"first name : \",fname)\n",
    "print(\"last name : \",lname)"
   ]
  },
  {
   "cell_type": "code",
   "execution_count": 7,
   "metadata": {},
   "outputs": [
    {
     "name": "stdout",
     "output_type": "stream",
     "text": [
      "your name is Sanjay and your age is : 30 \n"
     ]
    }
   ],
   "source": [
    "# format() function\n",
    "\n",
    "name=input(\"Enter your name : \")\n",
    "age=int(input(\"Enter your age : \"))\n",
    "\n",
    "print(\"your name is {} and your age is : {} \".format(name,age))"
   ]
  }
 ],
 "metadata": {
  "kernelspec": {
   "display_name": "Python 3.9.13 ('base')",
   "language": "python",
   "name": "python3"
  },
  "language_info": {
   "codemirror_mode": {
    "name": "ipython",
    "version": 3
   },
   "file_extension": ".py",
   "mimetype": "text/x-python",
   "name": "python",
   "nbconvert_exporter": "python",
   "pygments_lexer": "ipython3",
   "version": "3.9.13"
  },
  "orig_nbformat": 4,
  "vscode": {
   "interpreter": {
    "hash": "f08a415331ebc6ab7265b07684a49c0de9ebdb565d7171789e7d2984e3e0eab0"
   }
  }
 },
 "nbformat": 4,
 "nbformat_minor": 2
}
